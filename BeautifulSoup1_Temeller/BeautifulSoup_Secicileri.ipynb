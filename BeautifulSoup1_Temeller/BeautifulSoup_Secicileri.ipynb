{
 "cells": [
  {
   "cell_type": "code",
   "execution_count": 1,
   "id": "966b3483-9f5e-464d-8382-0d67d851cdd8",
   "metadata": {},
   "outputs": [],
   "source": [
    "import requests\n",
    "from bs4 import BeautifulSoup\n",
    "\n",
    "\n",
    "response = requests.get('https://quotes.toscrape.com/')\n",
    "soup = BeautifulSoup(response.text, 'html.parser')"
   ]
  },
  {
   "cell_type": "markdown",
   "id": "0b809599-5c03-4ed7-bfd9-867d460f2af1",
   "metadata": {},
   "source": [
    "    Başlık elementini bul"
   ]
  },
  {
   "cell_type": "code",
   "execution_count": 4,
   "id": "19551e62-3c0b-4bf2-bcc6-65e41b666ad5",
   "metadata": {},
   "outputs": [
    {
     "name": "stdout",
     "output_type": "stream",
     "text": [
      "<title>Quotes to Scrape</title>\n"
     ]
    }
   ],
   "source": [
    "title = soup.find('title')\n",
    "print(title)"
   ]
  },
  {
   "cell_type": "code",
   "execution_count": 6,
   "id": "7ac41b77-b304-4064-931d-693284e42518",
   "metadata": {},
   "outputs": [
    {
     "data": {
      "text/plain": [
       "<title>Quotes to Scrape</title>"
      ]
     },
     "execution_count": 6,
     "metadata": {},
     "output_type": "execute_result"
    }
   ],
   "source": [
    "title = soup.title\n",
    "title"
   ]
  },
  {
   "cell_type": "markdown",
   "id": "35502260-f25c-49fb-83cd-52c69e9a20d9",
   "metadata": {},
   "source": [
    "    Başlığın içindeki metni (text) bul"
   ]
  },
  {
   "cell_type": "code",
   "execution_count": 7,
   "id": "1365b0e4-23ad-42bd-9a60-5da901efc1b3",
   "metadata": {},
   "outputs": [
    {
     "name": "stdout",
     "output_type": "stream",
     "text": [
      "Quotes to Scrape\n"
     ]
    }
   ],
   "source": [
    "title = soup.find('title').text\n",
    "print(title)"
   ]
  },
  {
   "cell_type": "code",
   "execution_count": 9,
   "id": "cdbc063a-53cc-493f-bad3-faeeb85a0f45",
   "metadata": {},
   "outputs": [
    {
     "data": {
      "text/plain": [
       "'Quotes to Scrape'"
      ]
     },
     "execution_count": 9,
     "metadata": {},
     "output_type": "execute_result"
    }
   ],
   "source": [
    "title = soup.title.text\n",
    "title"
   ]
  },
  {
   "cell_type": "markdown",
   "id": "2f7e091f-1240-4690-8778-493ca412bd9f",
   "metadata": {},
   "source": [
    "    SEÇME"
   ]
  },
  {
   "cell_type": "markdown",
   "id": "064cbe6e-5d03-47f5-bdca-f3219aad1b12",
   "metadata": {},
   "source": [
    "        Sınıf (class) ismine göre ilk quote'u seç"
   ]
  },
  {
   "cell_type": "markdown",
   "id": "c8f826f6-5ff1-4635-9255-7911810c4680",
   "metadata": {},
   "source": [
    "          1. soup.find ile -> ilk bulduğu elementi return eder"
   ]
  },
  {
   "cell_type": "code",
   "execution_count": 10,
   "id": "9c34b63e-3886-41af-91dc-ee8098cec168",
   "metadata": {},
   "outputs": [
    {
     "data": {
      "text/plain": [
       "<div class=\"quote\" itemscope=\"\" itemtype=\"http://schema.org/CreativeWork\">\n",
       "<span class=\"text\" itemprop=\"text\">“The world as we have created it is a process of our thinking. It cannot be changed without changing our thinking.”</span>\n",
       "<span>by <small class=\"author\" itemprop=\"author\">Albert Einstein</small>\n",
       "<a href=\"/author/Albert-Einstein\">(about)</a>\n",
       "</span>\n",
       "<div class=\"tags\">\n",
       "            Tags:\n",
       "            <meta class=\"keywords\" content=\"change,deep-thoughts,thinking,world\" itemprop=\"keywords\"/>\n",
       "<a class=\"tag\" href=\"/tag/change/page/1/\">change</a>\n",
       "<a class=\"tag\" href=\"/tag/deep-thoughts/page/1/\">deep-thoughts</a>\n",
       "<a class=\"tag\" href=\"/tag/thinking/page/1/\">thinking</a>\n",
       "<a class=\"tag\" href=\"/tag/world/page/1/\">world</a>\n",
       "</div>\n",
       "</div>"
      ]
     },
     "execution_count": 10,
     "metadata": {},
     "output_type": "execute_result"
    }
   ],
   "source": [
    "first_quote = soup.find('div', class_='quote')\n",
    "first_quote"
   ]
  },
  {
   "cell_type": "markdown",
   "id": "4fdc2ea0-1116-49d4-917f-045147927836",
   "metadata": {},
   "source": [
    "          2. soup.find_all ile -> bu class ismi ile bulduğu tüm elementleri return eder"
   ]
  },
  {
   "cell_type": "code",
   "execution_count": 12,
   "id": "c21d4eba-8855-4406-a499-6c62e83adcc9",
   "metadata": {},
   "outputs": [
    {
     "data": {
      "text/plain": [
       "10"
      ]
     },
     "execution_count": 12,
     "metadata": {},
     "output_type": "execute_result"
    }
   ],
   "source": [
    "quotes = soup.find_all('div', class_='quote')\n",
    "first_quote = quotes[0]\n",
    "len(quotes)"
   ]
  },
  {
   "cell_type": "markdown",
   "id": "6b077ef5-967a-4379-a0d0-e613d74261e4",
   "metadata": {},
   "source": [
    "        \"itemprop\" özelliğini (attribute) kullanarak ilk quote'u seç ve text'ini bul"
   ]
  },
  {
   "cell_type": "code",
   "execution_count": 13,
   "id": "bb739a32-be51-4d19-9952-5e7921b1f1c2",
   "metadata": {},
   "outputs": [
    {
     "data": {
      "text/plain": [
       "'“The world as we have created it is a process of our thinking. It cannot be changed without changing our thinking.”'"
      ]
     },
     "execution_count": 13,
     "metadata": {},
     "output_type": "execute_result"
    }
   ],
   "source": [
    "quote_text = first_quote.find('span', attrs={'itemprop':'text'}).text\n",
    "quote_text"
   ]
  },
  {
   "cell_type": "markdown",
   "id": "2df19e50-bf69-4a76-aa76-d73a5f9665f1",
   "metadata": {},
   "source": [
    "        İçerisindeki text'i kullanarak etiket başlığını (Top Ten tags) seç"
   ]
  },
  {
   "cell_type": "code",
   "execution_count": 14,
   "id": "f157d888-06ce-454c-a97f-408692b9d4fe",
   "metadata": {},
   "outputs": [
    {
     "data": {
      "text/plain": [
       "<h2>Top Ten tags</h2>"
      ]
     },
     "execution_count": 14,
     "metadata": {},
     "output_type": "execute_result"
    }
   ],
   "source": [
    "tags_title = soup.find('h2', string='Top Ten tags')\n",
    "tags_title"
   ]
  },
  {
   "cell_type": "markdown",
   "id": "3a152e1f-ed26-47a5-a2b8-f6c4068a7210",
   "metadata": {},
   "source": [
    "    NAVİGASYON"
   ]
  },
  {
   "cell_type": "markdown",
   "id": "8b61c096-c8ca-41e8-aeea-8b4171a72f81",
   "metadata": {},
   "source": [
    "        tags_title elementinin ebeveynini bul (parent)"
   ]
  },
  {
   "cell_type": "code",
   "execution_count": 17,
   "id": "887a592c-c474-4bcd-ae27-f17d520d853a",
   "metadata": {},
   "outputs": [
    {
     "data": {
      "text/plain": [
       "<div class=\"col-md-4 tags-box\">\n",
       "<h2>Top Ten tags</h2>\n",
       "<span class=\"tag-item\">\n",
       "<a class=\"tag\" href=\"/tag/love/\" style=\"font-size: 28px\">love</a>\n",
       "</span>\n",
       "<span class=\"tag-item\">\n",
       "<a class=\"tag\" href=\"/tag/inspirational/\" style=\"font-size: 26px\">inspirational</a>\n",
       "</span>\n",
       "<span class=\"tag-item\">\n",
       "<a class=\"tag\" href=\"/tag/life/\" style=\"font-size: 26px\">life</a>\n",
       "</span>\n",
       "<span class=\"tag-item\">\n",
       "<a class=\"tag\" href=\"/tag/humor/\" style=\"font-size: 24px\">humor</a>\n",
       "</span>\n",
       "<span class=\"tag-item\">\n",
       "<a class=\"tag\" href=\"/tag/books/\" style=\"font-size: 22px\">books</a>\n",
       "</span>\n",
       "<span class=\"tag-item\">\n",
       "<a class=\"tag\" href=\"/tag/reading/\" style=\"font-size: 14px\">reading</a>\n",
       "</span>\n",
       "<span class=\"tag-item\">\n",
       "<a class=\"tag\" href=\"/tag/friendship/\" style=\"font-size: 10px\">friendship</a>\n",
       "</span>\n",
       "<span class=\"tag-item\">\n",
       "<a class=\"tag\" href=\"/tag/friends/\" style=\"font-size: 8px\">friends</a>\n",
       "</span>\n",
       "<span class=\"tag-item\">\n",
       "<a class=\"tag\" href=\"/tag/truth/\" style=\"font-size: 8px\">truth</a>\n",
       "</span>\n",
       "<span class=\"tag-item\">\n",
       "<a class=\"tag\" href=\"/tag/simile/\" style=\"font-size: 6px\">simile</a>\n",
       "</span>\n",
       "</div>"
      ]
     },
     "execution_count": 17,
     "metadata": {},
     "output_type": "execute_result"
    }
   ],
   "source": [
    "tag_box = tags_title.parent\n",
    "tag_box"
   ]
  },
  {
   "cell_type": "markdown",
   "id": "669d5022-e7cc-4473-ab88-0e220914e26b",
   "metadata": {},
   "source": [
    "        tags_title elementinin sonraki kardeşini bul (next sibling)"
   ]
  },
  {
   "cell_type": "code",
   "execution_count": 18,
   "id": "7de4e134-77ef-48af-9b0b-b37f28e60a87",
   "metadata": {},
   "outputs": [
    {
     "data": {
      "text/plain": [
       "<span class=\"tag-item\">\n",
       "<a class=\"tag\" href=\"/tag/love/\" style=\"font-size: 28px\">love</a>\n",
       "</span>"
      ]
     },
     "execution_count": 18,
     "metadata": {},
     "output_type": "execute_result"
    }
   ],
   "source": [
    "first_tag_span = tags_title.find_next_sibling()\n",
    "first_tag_span"
   ]
  },
  {
   "cell_type": "markdown",
   "id": "721db6fb-32b6-4f3f-904b-69ea3dc476ed",
   "metadata": {},
   "source": [
    "        first_tag_span elementinin önceki kardeşini bul (previous sibling) "
   ]
  },
  {
   "cell_type": "code",
   "execution_count": 20,
   "id": "a9385d60-deb4-483b-a744-3734906f43bf",
   "metadata": {},
   "outputs": [
    {
     "name": "stdout",
     "output_type": "stream",
     "text": [
      "<h2>Top Ten tags</h2>\n"
     ]
    }
   ],
   "source": [
    "h2 = first_tag_span.find_previous_sibling()\n",
    "print(h2)"
   ]
  },
  {
   "cell_type": "markdown",
   "id": "aa6a2ffb-458b-4c17-9fac-6867e342e813",
   "metadata": {},
   "source": [
    "        tag_box elementinin çocuklarını bul (children)"
   ]
  },
  {
   "cell_type": "code",
   "execution_count": 23,
   "id": "5d4b0c65-2dbc-4a70-a7c4-574883cb6e8e",
   "metadata": {},
   "outputs": [
    {
     "name": "stdout",
     "output_type": "stream",
     "text": [
      "\n",
      "\n",
      "<h2>Top Ten tags</h2>\n",
      "\n",
      "\n",
      "<span class=\"tag-item\">\n",
      "<a class=\"tag\" href=\"/tag/love/\" style=\"font-size: 28px\">love</a>\n",
      "</span>\n",
      "\n",
      "\n",
      "<span class=\"tag-item\">\n",
      "<a class=\"tag\" href=\"/tag/inspirational/\" style=\"font-size: 26px\">inspirational</a>\n",
      "</span>\n",
      "\n",
      "\n",
      "<span class=\"tag-item\">\n",
      "<a class=\"tag\" href=\"/tag/life/\" style=\"font-size: 26px\">life</a>\n",
      "</span>\n",
      "\n",
      "\n",
      "<span class=\"tag-item\">\n",
      "<a class=\"tag\" href=\"/tag/humor/\" style=\"font-size: 24px\">humor</a>\n",
      "</span>\n",
      "\n",
      "\n",
      "<span class=\"tag-item\">\n",
      "<a class=\"tag\" href=\"/tag/books/\" style=\"font-size: 22px\">books</a>\n",
      "</span>\n",
      "\n",
      "\n",
      "<span class=\"tag-item\">\n",
      "<a class=\"tag\" href=\"/tag/reading/\" style=\"font-size: 14px\">reading</a>\n",
      "</span>\n",
      "\n",
      "\n",
      "<span class=\"tag-item\">\n",
      "<a class=\"tag\" href=\"/tag/friendship/\" style=\"font-size: 10px\">friendship</a>\n",
      "</span>\n",
      "\n",
      "\n",
      "<span class=\"tag-item\">\n",
      "<a class=\"tag\" href=\"/tag/friends/\" style=\"font-size: 8px\">friends</a>\n",
      "</span>\n",
      "\n",
      "\n",
      "<span class=\"tag-item\">\n",
      "<a class=\"tag\" href=\"/tag/truth/\" style=\"font-size: 8px\">truth</a>\n",
      "</span>\n",
      "\n",
      "\n",
      "<span class=\"tag-item\">\n",
      "<a class=\"tag\" href=\"/tag/simile/\" style=\"font-size: 6px\">simile</a>\n",
      "</span>\n",
      "\n",
      "\n"
     ]
    }
   ],
   "source": [
    "tag_children = tag_box.children\n",
    "list_of_children = list(tag_children)\n",
    "for child in list_of_children:\n",
    "    print(child)"
   ]
  },
  {
   "cell_type": "markdown",
   "id": "fe354b0f-a068-4985-a974-28b4651e0433",
   "metadata": {},
   "source": [
    "    Değerleri elde etme"
   ]
  },
  {
   "cell_type": "markdown",
   "id": "798527d8-19d9-4186-bbda-1f6d9271310e",
   "metadata": {},
   "source": [
    "        tog_tag elementinin href değerini çıkart "
   ]
  },
  {
   "cell_type": "code",
   "execution_count": 24,
   "id": "17fe8a7e-088b-494e-be3f-e04c80dca7b0",
   "metadata": {},
   "outputs": [
    {
     "data": {
      "text/plain": [
       "'/tag/love/'"
      ]
     },
     "execution_count": 24,
     "metadata": {},
     "output_type": "execute_result"
    }
   ],
   "source": [
    "top_tag_a = first_tag_span.a\n",
    "top_tag_href = top_tag_a['href']\n",
    "top_tag_href"
   ]
  },
  {
   "cell_type": "markdown",
   "id": "1b36835c-8b60-41e4-8d41-42ae193f3b27",
   "metadata": {},
   "source": [
    "        Bu yöntem ile tüm özellikleri (attribute) elde edebiliriz"
   ]
  },
  {
   "cell_type": "code",
   "execution_count": 25,
   "id": "c355120e-17fc-4052-9682-be6d164ad937",
   "metadata": {},
   "outputs": [
    {
     "data": {
      "text/plain": [
       "['tag']"
      ]
     },
     "execution_count": 25,
     "metadata": {},
     "output_type": "execute_result"
    }
   ],
   "source": [
    "top_tag_class = top_tag_a['class']\n",
    "top_tag_class"
   ]
  },
  {
   "cell_type": "code",
   "execution_count": 26,
   "id": "db17d440-1a64-417e-ad96-cddad03c430f",
   "metadata": {},
   "outputs": [
    {
     "data": {
      "text/plain": [
       "'font-size: 28px'"
      ]
     },
     "execution_count": 26,
     "metadata": {},
     "output_type": "execute_result"
    }
   ],
   "source": [
    "top_tag_style = top_tag_a['style']\n",
    "top_tag_style"
   ]
  },
  {
   "cell_type": "code",
   "execution_count": null,
   "id": "df612a86-4d94-4052-ac8f-5ec428bc1d83",
   "metadata": {},
   "outputs": [],
   "source": []
  }
 ],
 "metadata": {
  "kernelspec": {
   "display_name": "Python 3 (ipykernel)",
   "language": "python",
   "name": "python3"
  },
  "language_info": {
   "codemirror_mode": {
    "name": "ipython",
    "version": 3
   },
   "file_extension": ".py",
   "mimetype": "text/x-python",
   "name": "python",
   "nbconvert_exporter": "python",
   "pygments_lexer": "ipython3",
   "version": "3.12.4"
  }
 },
 "nbformat": 4,
 "nbformat_minor": 5
}
